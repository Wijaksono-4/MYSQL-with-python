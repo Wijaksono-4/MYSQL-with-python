{
 "cells": [
  {
   "cell_type": "code",
   "execution_count": null,
   "metadata": {},
   "outputs": [],
   "source": [
    "import mysql.connector\n",
    "import pandas as pd\n",
    "from datetime import date"
   ]
  },
  {
   "cell_type": "code",
   "execution_count": null,
   "metadata": {},
   "outputs": [],
   "source": [
    "conn = mysql.connector.connect(\n",
    "    host = 'localhost',\n",
    "    user = 'root',\n",
    "    password = '',\n",
    "    database = 'pizza_sales'\n",
    ")\n",
    "cursor = conn.cursor()"
   ]
  },
  {
   "cell_type": "code",
   "execution_count": null,
   "metadata": {},
   "outputs": [
    {
     "data": {
      "text/plain": [
       "order_details_id              int64\n",
       "order_id                      int64\n",
       "pizza_id                     object\n",
       "quantity                      int64\n",
       "order_date           datetime64[ns]\n",
       "order_time                   object\n",
       "unit_price                  float64\n",
       "total_price                 float64\n",
       "pizza_size                   object\n",
       "pizza_category               object\n",
       "pizza_ingredients            object\n",
       "pizza_name                   object\n",
       "dtype: object"
      ]
     },
     "execution_count": 2,
     "metadata": {},
     "output_type": "execute_result"
    }
   ],
   "source": [
    "df = pd.read_excel(r'C:\\Users\\ACER\\OneDrive - mail.unnes.ac.id\\Documents\\statistika\\porto 4 pizza sales\\Data Model - Pizza Sales.xlsx')\n",
    "df.dtypes"
   ]
  },
  {
   "cell_type": "code",
   "execution_count": null,
   "metadata": {},
   "outputs": [
    {
     "data": {
      "text/plain": [
       "order_details_id              int64\n",
       "order_id                      int64\n",
       "pizza_id                     object\n",
       "quantity                      int64\n",
       "order_date           datetime64[ns]\n",
       "order_time           datetime64[ns]\n",
       "unit_price                  float64\n",
       "total_price                 float64\n",
       "pizza_size                   object\n",
       "pizza_category               object\n",
       "pizza_ingredients            object\n",
       "pizza_name                   object\n",
       "dtype: object"
      ]
     },
     "execution_count": 3,
     "metadata": {},
     "output_type": "execute_result"
    }
   ],
   "source": [
    "df['order_time'] = pd.to_datetime(df['order_time'], format='%H:%M:%S')\n",
    "df.dtypes"
   ]
  },
  {
   "cell_type": "code",
   "execution_count": null,
   "metadata": {},
   "outputs": [
    {
     "data": {
      "text/plain": [
       "0"
      ]
     },
     "execution_count": 4,
     "metadata": {},
     "output_type": "execute_result"
    }
   ],
   "source": [
    "df.drop_duplicates()\n",
    "df['order_details_id'].duplicated().sum()"
   ]
  },
  {
   "cell_type": "code",
   "execution_count": 5,
   "metadata": {},
   "outputs": [],
   "source": [
    "# Mengambil data hanya untuk hari ini\n",
    "df_today = df[df['order_date'] == date.today()]"
   ]
  },
  {
   "cell_type": "code",
   "execution_count": 24,
   "metadata": {},
   "outputs": [],
   "source": [
    "df_pizza_order = df_today.drop(['total_price','pizza_size','pizza_category','pizza_ingredients','pizza_name'], axis=1)\n",
    "df_pizza_name = df_today.groupby(['pizza_id','pizza_size'])['pizza_name'].unique().reset_index()\n",
    "df_pizza_name = pd.DataFrame(df_pizza_name, columns=['pizza_id', 'pizza_size', 'pizza_name'])\n",
    "df_pizza = df_today.groupby(['pizza_name','pizza_category'])['pizza_ingredients'].unique().reset_index()\n",
    "df_pizza_ingred = pd.DataFrame(df_pizza, columns=['pizza_name','pizza_category','pizza_ingredients'])\n",
    "df_pizza_category = df_today.groupby('pizza_name')['pizza_category'].unique().reset_index()\n",
    "df_pizza_category = pd.DataFrame(df_pizza_category, columns=['pizza_name','pizza_category'])"
   ]
  },
  {
   "cell_type": "code",
   "execution_count": null,
   "metadata": {},
   "outputs": [],
   "source": [
    "# i try to make def insert data filter(it just call data)\n",
    "def insert_table(data):\n",
    "    table_name = data.string\n",
    "    insert_table_query = f\"select * from {table_name}\"\n",
    "    cursor.execute(insert_table_query)\n",
    "    df = cursor.fetchall()\n",
    "    data_table = data['pizza_id'].isin([row[0] for row in df])"
   ]
  },
  {
   "cell_type": "code",
   "execution_count": 1,
   "metadata": {},
   "outputs": [
    {
     "ename": "NameError",
     "evalue": "name 'cursor' is not defined",
     "output_type": "error",
     "traceback": [
      "\u001b[1;31m---------------------------------------------------------------------------\u001b[0m",
      "\u001b[1;31mNameError\u001b[0m                                 Traceback (most recent call last)",
      "Input \u001b[1;32mIn [1]\u001b[0m, in \u001b[0;36m<cell line: 1>\u001b[1;34m()\u001b[0m\n\u001b[1;32m----> 1\u001b[0m \u001b[43mcursor\u001b[49m\u001b[38;5;241m.\u001b[39mexecute(\u001b[38;5;124m\"\u001b[39m\u001b[38;5;124mSELECT pizza_id FROM pizza_name\u001b[39m\u001b[38;5;124m\"\u001b[39m)\n\u001b[0;32m      2\u001b[0m pizza_id \u001b[38;5;241m=\u001b[39m cursor\u001b[38;5;241m.\u001b[39mfetchall()\n\u001b[0;32m      3\u001b[0m df_pizza_name \u001b[38;5;241m=\u001b[39m df_pizza_name[\u001b[38;5;124m'\u001b[39m\u001b[38;5;124mpizza_id\u001b[39m\u001b[38;5;124m'\u001b[39m]\u001b[38;5;241m.\u001b[39misin([row[\u001b[38;5;241m0\u001b[39m] \u001b[38;5;28;01mfor\u001b[39;00m row \u001b[38;5;129;01min\u001b[39;00m pizza_id])\n",
      "\u001b[1;31mNameError\u001b[0m: name 'cursor' is not defined"
     ]
    }
   ],
   "source": [
    "cursor.execute(\"SELECT pizza_id FROM pizza_name\")\n",
    "pizza_id = cursor.fetchall()\n",
    "df_pizza_name = df_pizza_name['pizza_id'].isin([row[0] for row in pizza_id])"
   ]
  },
  {
   "cell_type": "code",
   "execution_count": null,
   "metadata": {},
   "outputs": [],
   "source": [
    "for row in df_pizza_order.itertuples(index = False):\n",
    "    values = (row.order_details_id,row.order_id,row.pizza_id,row.quantity,row.order_date,row.order_time,row.unit_price)\n",
    "    insert_query = \"INSERT INTO pizza_order (order_details_id,order_id,pizza_id,quantity,order_date,order_time,unit_price) \\\n",
    "    values (%s,%s,%s,%s,%s,%s,%s)\"\n",
    "    cursor.execute(insert_query, values)\n",
    "    conn.commit()"
   ]
  },
  {
   "cell_type": "code",
   "execution_count": null,
   "metadata": {},
   "outputs": [],
   "source": [
    "for row in df_pizza_name.itertuples():\n",
    "    cursor.execute('''INSERT INTO pizza_name (pizza_id, pizza_size, pizza_name)\n",
    "    values (%s,%s,%s)''', (row.pizza_id, row.pizza_size, row.pizza_name))\n",
    "    conn.commit()"
   ]
  },
  {
   "cell_type": "code",
   "execution_count": null,
   "metadata": {},
   "outputs": [],
   "source": [
    "for row in df_pizza_ingred.itertuples():\n",
    "    cursor.execute('''INSERT INTO pizza_category (pizza_name, pizza_category, pizza_ingredients)\n",
    "    values (%s,%s,%s)''', (row.pizza_name, row.pizza_category, row.pizza_ingredients))\n",
    "    conn.commit()"
   ]
  }
 ],
 "metadata": {
  "kernelspec": {
   "display_name": "base",
   "language": "python",
   "name": "python3"
  },
  "language_info": {
   "codemirror_mode": {
    "name": "ipython",
    "version": 3
   },
   "file_extension": ".py",
   "mimetype": "text/x-python",
   "name": "python",
   "nbconvert_exporter": "python",
   "pygments_lexer": "ipython3",
   "version": "3.9.12"
  }
 },
 "nbformat": 4,
 "nbformat_minor": 2
}
